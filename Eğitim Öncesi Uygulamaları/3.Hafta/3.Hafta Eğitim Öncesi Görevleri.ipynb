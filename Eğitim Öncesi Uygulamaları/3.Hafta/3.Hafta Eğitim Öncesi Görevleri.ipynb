{
  "cells": [
    {
      "cell_type": "markdown",
      "metadata": {
        "id": "tsD4YVAe_Te2"
      },
      "source": [
        "# Problem 1\n",
        "Bir sayının 7'ye bölünebilir olup olmadığını kontrol etmek \n",
        "için bir program yazın.\n",
        "\n",
        "İpucu: Mod operatörünü (%) kullanabilirsiniz."
      ]
    },
    {
      "cell_type": "code",
      "execution_count": 9,
      "metadata": {
        "id": "NGjvNwKx_Te7"
      },
      "outputs": [
        {
          "name": "stdout",
          "output_type": "stream",
          "text": [
            "bölemeyeceksiniz!\n"
          ]
        }
      ],
      "source": [
        "sayı = int(input(\"Sayı giriniz\"))\n",
        "if sayı % 7 == 0:\n",
        "    print(\"bölünebilir\")\n",
        "else : print(\"bölemeyeceksiniz!\") \n",
        "              \n"
      ]
    },
    {
      "cell_type": "markdown",
      "metadata": {
        "id": "Kg3qiBAI_Te8"
      },
      "source": [
        "# Problem 2\n",
        "Kullanıcıdan vize ve final notu isteyin. Girilen vize notunun %40’ı ve \n",
        "girilen finalnotunun ise %60’ı alınarak yıl sonu not ortalaması hesaplanacaktır. \n",
        "\n",
        "Bu not ortalaması eğer 85 ve üzeri ise AA, \n",
        "\n",
        "75 ve 85 arasında ise BA, \n",
        "\n",
        "70 ve 75 arasında ise BB, \n",
        "\n",
        "65 ve 70 arasında ise CB,\n",
        "\n",
        "60 ve 65 arasında ise CC,\n",
        "\n",
        "55 ve 60 arasında ise DC,\n",
        "\n",
        "50 ve 55 arasında ise DD olarak hesaplanacaktır. \n",
        "\n",
        "Bu öğrencinin yıl sonu toplam notu 50’nin altında ise FF ile dersten kalacaktır. \n",
        "\n",
        "Ayrıca öğrencinin final notu 50’nin altında ise direkt FF ile kalacaktır."
      ]
    },
    {
      "cell_type": "code",
      "execution_count": 12,
      "metadata": {
        "id": "MXTtCxI1_Te8"
      },
      "outputs": [
        {
          "name": "stdout",
          "output_type": "stream",
          "text": [
            "sınavlarınızın ağırlıklı ortalaması 61.400000000000006tur\n",
            "Sınav sonucunuz CC'dir\n"
          ]
        }
      ],
      "source": [
        "# 2.Problemin Çözümünü Buraya Yazın\n",
        "vize = float(input(\"Vize notunuzu giriniz\"))\n",
        "final = float(input(\"Final notunu giriniz\"))\n",
        "sonuç = vize*0.4 + final*0.6\n",
        "\n",
        "print(f\"sınavlarınızın ağırlıklı ortalaması {sonuç}tur\")\n",
        "if sonuç > 85 :\n",
        "    print(\"Sınav sonucunuz AA'dır\")\n",
        "elif 85 > sonuç > 75 : print(\"Sınav sonucunuz BA'dır\")\n",
        "elif 75 > sonuç > 70 : print(\"Sınav sonucunuz BB'dir\")\n",
        "elif 70 > sonuç > 65 : print(\"Sınav sonucunuz CB'dir\")\n",
        "elif 65 > sonuç > 60 : print(\"Sınav sonucunuz CC'dir\")\n",
        "elif 60 > sonuç > 55 : print(\"Sınav sonucunuz DC'dir\")\n",
        "elif 55 > sonuç > 50 : print(\"Sınav sonucunuz DD'dir\")\n",
        "elif 50 > sonuç > 0 : print(\"Sınav sonucunuz FF'dir\")\n"
      ]
    },
    {
      "cell_type": "markdown",
      "metadata": {
        "id": "tAoRYCTC_Te8"
      },
      "source": [
        "# Problem 3\n",
        "İki YetGenli Zirve'de karşılaşıyorlar. Birbirlerini tanımak için sorular soruyorlar. Birbirlerine yaşlarını soruyorlar. Akıllarına bir Python programı yazıp, yaşlarını ve isimlerini giriyorlar. Büyük olanın yaşını ekrana yazdıran programı yazıyorlar. Sende bu iki YetGenli'ye destek olmak ister misin?\n",
        "\n",
        "```\n",
        "Birinci YetGenlinin ismi: Ahmet\n",
        "Birinci YetGenlinin yaşı : 20\n",
        "İkinci YetGenlinin ismi: Mehmet\n",
        "İkinci YetGenlinin yaşı : 25\n",
        "Mehmet'in yaşı daha büyük ve yaşı 25'tir.\n",
        "```"
      ]
    },
    {
      "cell_type": "code",
      "execution_count": 13,
      "metadata": {
        "id": "bPjE8W0i_Te8"
      },
      "outputs": [
        {
          "name": "stdout",
          "output_type": "stream",
          "text": [
            "mehmet'in yaşı ahmet'nin yaşından büyüktür.\n"
          ]
        }
      ],
      "source": [
        "# 3.Problemin Çözümünü Buraya Yazınız\n",
        "birinci = int(input(\"1. Yetgenlinin yaşını giriniz\"))\n",
        "ikinci = int(input(\"2. Yetgenlinin yaşını giriniz\"))\n",
        "\n",
        "isim1 = input(\"1. Yetgenlinin isim\")\n",
        "isim2 = input(\"2. Yetgenlinin isim\")\n",
        "\n",
        "if birinci > ikinci :\n",
        "    print(f\"{isim1}'in yaşı {isim2}'nin yaşından büyüktür.\")\n",
        "else : \n",
        "    print(f\"{isim2}'in yaşı {isim1}'nin yaşından büyüktür.\")\n",
        "    "
      ]
    },
    {
      "cell_type": "markdown",
      "metadata": {
        "id": "zBVv8Tyg_Te9"
      },
      "source": [
        "# Problem 4\n",
        "Pandemi döneminde AVM'lerde ateş ölçümü yapılıyor. AVM'ye giren kişinin ateş ölçümü 37.5 derecenin altında ise girişe izin veriliyor. 37.5 derecenin üstünde ise girişe izin verilmiyor. AVM'ye girişe izin verilip verilmediğini ekrana yazdıran bir program yazın.\n",
        "\n",
        "Program sonunda şöyle bir çıktı elde etmelisiniz:\n",
        "\n",
        "```\n",
        "Ateşiniz 37.5 derece. AVM'ye girebilirsin! Maske takmayı unutma!\n",
        "Ateşiniz 37.6 derece. AVM'ye giremezsin! Hemen evine dön!\n",
        "```"
      ]
    },
    {
      "cell_type": "code",
      "execution_count": 15,
      "metadata": {
        "id": "TSAXs8et_Te9"
      },
      "outputs": [
        {
          "name": "stdout",
          "output_type": "stream",
          "text": [
            "Ateşiniz 38.0 derece. AVM'ye giremezsiniz! Hemen evine dön kopek!\n"
          ]
        }
      ],
      "source": [
        "# 4.Problemin Çözümünü Buraya Yazını\n",
        "ateş = float(input(\"Ateş Kaç?\"))\n",
        "if ateş >37.5 :\n",
        "    print(f\"Ateşiniz {ateş} derece. AVM'ye giremezsiniz! Hemen evine dön kopek!\")\n",
        "else : print(f\"Ateşiniz {ateş} derece. AVM'ye girebilirsiniz. Maske takmayo unutmayın.\")"
      ]
    },
    {
      "cell_type": "markdown",
      "metadata": {
        "id": "6AEkZrDt_Te9"
      },
      "source": [
        "# Problem 5\n",
        "YetGen bir spor kulübüyle sponsorluk anlaşması yapıyor. Kulüp, sponsorluk anlaşmasına göre her YetGen liderinin beden kitle indeksini hesaplamak istiyor. Spor kulübü, beden kitle indeksini hesaplamak için YetGen Jump Python liderlerinden Berkcan ve Ahmet'i arıyor. Berkcan ve Ahmet, kulübe yardımcı olmak için bir Python programı yazıyorlar. Sende bu iki YetGen liderine destek olmak ister misin?\n",
        "\n",
        "Kullanıcıdan alınan boy ve kilo değerlerine göre beden kitle indeksini hesaplayın ve şu kurallara göre ekrana şu yazıları yazdırın.\n",
        "\n",
        "\n",
        "Beden Kitle İndeksi, kişinin ağırlığının (kg olarak) boyunun karesine (m olarak) bölünmesiyle hesaplanır.\n",
        "\n",
        "\n",
        "```\n",
        " BKİ 18.5'un altındaysa -------> Zayıf\n",
        "\n",
        " BKİ 18.5 ile 25 arasındaysa ------> Normal\n",
        "\n",
        " BKİ 25 ile 30 arasındaysa --------> Fazla Kilolu\n",
        "\n",
        " BKİ 30'un üstündeyse -------------> Obez\n",
        "```\n",
        "\n"
      ]
    },
    {
      "cell_type": "code",
      "execution_count": 18,
      "metadata": {
        "id": "t-XPI_u0_Te-"
      },
      "outputs": [
        {
          "name": "stdout",
          "output_type": "stream",
          "text": [
            "Fazla Kilolusunuz\n"
          ]
        }
      ],
      "source": [
        "# 5.Problemin Çözümünü Buraya Yazınız\n",
        "kilo = float(input(\"Kilonuzu giriniz\"))\n",
        "boy = float(input(\"Boyunuzu giriniz(m)\"))\n",
        "\n",
        "x = kilo/(boy**2)\n",
        "\n",
        "if x > 30 :\n",
        "    print(\"Obezsiniz\")\n",
        "elif 30 > x > 25 :\n",
        "    print(\"Fazla Kilolusunuz\")\n",
        "elif 25> x > 18.5 :\n",
        "    print(\"Normal Kilolusunuz\")\n",
        "elif 18.5 > x > 0 :\n",
        "    print(\"Zayıfsınız\")\n",
        "    "
      ]
    },
    {
      "cell_type": "markdown",
      "metadata": {
        "id": "oFsvQyaO_Te-"
      },
      "source": [
        "# Problem 6\n",
        "Kullanıcıdan isim, yaş ve eğitim bilgilerini isteyip ehliyet alabilme  durumunu kontrol ediniz. \n",
        "\n",
        "Ehliyet alma koşulu en az 18 yaşında ve eğitim durumu lise ya da üniversite olmalıdır. "
      ]
    },
    {
      "cell_type": "code",
      "execution_count": 32,
      "metadata": {
        "id": "Tu2mcgco_Te-"
      },
      "outputs": [
        {
          "name": "stdout",
          "output_type": "stream",
          "text": [
            "Merhaba bilal\n",
            "Ehliyet alabilirsiniz\n"
          ]
        }
      ],
      "source": [
        "# 6.Problemin Çözümünü Buraya Yazınız\n",
        "liste = [\"lise\", \"üniversite\", \"lisans\", \"yükseklisans\"]\n",
        "eğitim = input(\"Eğitim durumunuz\")\n",
        "isim = input(\"İsminizi giriniz\")\n",
        "yaş = int(input(\"Yaşınızı giriniz\"))\n",
        "\n",
        "print(\"Merhaba\" , isim)\n",
        "if yaş > 18 and eğitim in liste :\n",
        "    print(\"Ehliyet alabilirsiniz\")\n",
        "else :\n",
        "    print(\"Ne yazık ki ehliyet alamazsınız\")\n"
      ]
    },
    {
      "cell_type": "markdown",
      "metadata": {
        "id": "eUkxVSAE_Te_"
      },
      "source": [
        "# Problem 7\n",
        "Bir yılın artık yıl olup olmadığını kontrol etmek için bir program yazın. \n",
        "Artık yıl kuralı:\n",
        "\n",
        "a) Eğer yılın son iki basamağı (00) ile bitmiyor ve yalnızca 4'e tam bölünüyorsa artık yıldır. Ya da, \n",
        "\n",
        "b) Eğer yıl 400'e tam bölünüyorsa artık yıldır.\n",
        "\n",
        "**Örneğin**\n",
        "```\n",
        "2017 artık yıl değildir.\n",
        "1900 artık yıl değildir\n",
        "2012 artık yıldır.\n",
        "2000 artık yıldır.\n",
        "```"
      ]
    },
    {
      "cell_type": "code",
      "execution_count": 37,
      "metadata": {
        "id": "4uWh8qUL_Te_"
      },
      "outputs": [
        {
          "name": "stdout",
          "output_type": "stream",
          "text": [
            "2021 artık yıl değildir\n"
          ]
        }
      ],
      "source": [
        "# 7.Problemin Çözümünü Buraya Yazınız\n",
        "yıl = int(input(\"Yıl giriniz\"))\n",
        "if ((yıl % 100 != 0 and yıl % 4 == 0) or (yıl % 400 == 0 ) ):\n",
        "    print(f\"{yıl} artık yıldır\")\n",
        "else : \n",
        "    print( yıl, \"artık yıl değildir\")\n",
        "\n"
      ]
    }
  ],
  "metadata": {
    "colab": {
      "provenance": []
    },
    "kernelspec": {
      "display_name": "Python 3.10.5 64-bit",
      "language": "python",
      "name": "python3"
    },
    "language_info": {
      "codemirror_mode": {
        "name": "ipython",
        "version": 3
      },
      "file_extension": ".py",
      "mimetype": "text/x-python",
      "name": "python",
      "nbconvert_exporter": "python",
      "pygments_lexer": "ipython3",
      "version": "3.11.1"
    },
    "orig_nbformat": 4,
    "vscode": {
      "interpreter": {
        "hash": "5026d2d6e7aaaaba093def813beadff083d8733e4a511af01735cbabd156995d"
      }
    }
  },
  "nbformat": 4,
  "nbformat_minor": 0
}
