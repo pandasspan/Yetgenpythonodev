{
 "cells": [
  {
   "attachments": {},
   "cell_type": "markdown",
   "metadata": {},
   "source": [
    "# Problem 1\n",
    "\n",
    "Şimdi beraber kullanıcılardan aldığımız verileri işleyerek, onlara hem çıktı verecek, hem de aldığımız ve hesapladığımız verileri ileride kullanabilmek adına kaydedeceğiz.\n",
    "\n",
    "\n",
    " **Bu bir veri giriş platformu olacak**\n",
    "\n",
    "\n",
    " * kullanıcıya kaç giriş yapacağını soracağız\n",
    "* kullanıcıdan isim-soyisim, yaş, boy, kilo bilgilerini alarak VKİ hesaplayacağız\n",
    "* ardından bunları sınıflara göre kaydedeceğiz bir dosyaya kaydedeceğiz\n",
    "\n",
    "\n",
    "Sınıflar ise şu şekilde: \n",
    "* 18, 5 kg/m.'nin altında olanlar: Zayıf\n",
    "* 18.5 – 24, 9 kg/m. arasında olanlar: Normal kilolu\n",
    "* 25 – 29, 9 kg/m. arasında olanlar: Fazla kilolu\n",
    "* 30 – 39, 9 kg/m. arasında olanlar: Obez\n",
    "* 40 kg/m.'nin üzerinde olanlar: İleri derecede obez (morbid obez), olarak görülür."
   ]
  },
  {
   "cell_type": "code",
   "execution_count": 27,
   "metadata": {},
   "outputs": [
    {
     "ename": "PermissionError",
     "evalue": "[WinError 32] Dosya başka bir işlem tarafından kullanıldığından bu işlem dosyaya erişemiyor: 'sağlık.txt'",
     "output_type": "error",
     "traceback": [
      "\u001b[1;31m---------------------------------------------------------------------------\u001b[0m",
      "\u001b[1;31mPermissionError\u001b[0m                           Traceback (most recent call last)",
      "Cell \u001b[1;32mIn[27], line 71\u001b[0m\n\u001b[0;32m      1\u001b[0m \u001b[39m#import time\u001b[39;00m\n\u001b[0;32m      2\u001b[0m \u001b[39m#\u001b[39;00m\n\u001b[0;32m      3\u001b[0m \u001b[39m#\u001b[39;00m\n\u001b[1;32m   (...)\u001b[0m\n\u001b[0;32m     68\u001b[0m \u001b[39m#    yazılan = a.readlines()\u001b[39;00m\n\u001b[0;32m     69\u001b[0m \u001b[39m#    print (yazılan)\u001b[39;00m\n\u001b[0;32m     70\u001b[0m \u001b[39mimport\u001b[39;00m \u001b[39mos\u001b[39;00m\n\u001b[1;32m---> 71\u001b[0m os\u001b[39m.\u001b[39;49mremove(\u001b[39m\"\u001b[39;49m\u001b[39msağlık.txt\u001b[39;49m\u001b[39m\"\u001b[39;49m)\n",
      "\u001b[1;31mPermissionError\u001b[0m: [WinError 32] Dosya başka bir işlem tarafından kullanıldığından bu işlem dosyaya erişemiyor: 'sağlık.txt'"
     ]
    }
   ],
   "source": [
    "#import time\n",
    "#\n",
    "#\n",
    "#def vucut_olc():\n",
    "#    # a = giriş sayısı \n",
    "#    a = int(input(\"Kaç kişi girilicek?\"))\n",
    "#    for i in range(a):\n",
    "#        ad_soyad = input(\"Adınızı Soyadınızı arasında boşluk olacak şekilde giriniz\")\n",
    "#        kilo = float(input(\"Kilonuzu giriniz\"))\n",
    "#        boy = float(input(\"Boyunuzu giriniz(m)\"))\n",
    "#        yas = int(input(\"Yaşınızı giriniz\"))\n",
    "#        vki = vki_olc(kilo,boy)\n",
    "#        ind = indeks_araligi(vki)\n",
    "#        sonuc = cikti_olustur(ad_soyad, yas, kilo, boy, vki, ind)\n",
    "#        with open(\"sağlık.txt\", \"a\") as f:\n",
    "#            f.write(sonuc)\n",
    "#            f.write(\"*\"*20)\n",
    "#            f.write(\"\\n\")\n",
    "#            print(\"Kullanıcı kaydedildi\")\n",
    "#        f.close()\n",
    "#class vucut_kitle_indeksi():\n",
    "#    def __init__(self, kilo, boy):\n",
    "#        self.kilo = kilo\n",
    "#        self.boy = boy\n",
    "#    \n",
    "#class zayıf(vucut_kitle_indeksi):\n",
    "#    pass\n",
    "#class normal_kilolu(vucut_kitle_indeksi):\n",
    "#    pass\n",
    "#class fazla_kilolu(vucut_kitle_indeksi):\n",
    "#    pass\n",
    "#class obez(vucut_kitle_indeksi):\n",
    "#    pass\n",
    "#class ileri_derece_obez(vucut_kitle_indeksi):\n",
    "#    pass\n",
    "#\n",
    "#    \n",
    "## x = vücut Kitle indeksi\n",
    "#def vki_olc(kilo,boy):\n",
    "#    x = kilo/(boy**2)\n",
    "#    return round(x,1)\n",
    "#\n",
    "#def indeks_araligi(x):\n",
    "#    if x >= 40 :\n",
    "#        return \"İleri dercede obezsiniz\"\n",
    "#    elif x >= 30 :\n",
    "#        return \"Obezsiniz\"\n",
    "#    elif x >= 25 :\n",
    "#        return \"Fazla Kilolusunuz\"\n",
    "#    elif x >= 18.5 :\n",
    "#        return \"Normal Kilolusunuz\"\n",
    "#    elif x > 0 :\n",
    "#        return \"Zayıfsınız\"\n",
    "#\n",
    "#def cikti_olustur(ad_soyad, yas, kilo, boy, vki, ind):\n",
    "#    tarih = time.ctime(time.time())\n",
    "#    t1 = f\"Kullanıcının adı {ad_soyad}\\n\"\n",
    "#    t2 = f\"Kullanıcının yaşı, kilosu ve boyu {yas},{kilo},{boy}\\n\"\n",
    "#    t3 = f\"Kullanıcının vücut kitle indeksi {vki}\\n\"\n",
    "#    t4 = f\"Vücut kitle indeksinin değer aralığı{ind}\\n\"\n",
    "#    t5 = f\"Kullanıcının kayıt tarihi{tarih}\\n\"\n",
    "#    output = t1 + t2 + t3 + t4 + t5 \n",
    "#    return output\n",
    "#vucut_olc()\n",
    "\n",
    "\n",
    "#with open(\"sağlık.txt\", \"r\", encoding = \"utf-8\") as a:\n",
    "#    yazılan = a.readlines()\n",
    "#    print (yazılan)\n",
    "import os\n",
    "os.remove(\"sağlık.txt\")\n",
    "\n"
   ]
  },
  {
   "attachments": {},
   "cell_type": "markdown",
   "metadata": {},
   "source": [
    "# Problem 2\n",
    "**YetBar - Smoothie Bank**\n",
    "---\n",
    "YetBar spor salonunun girişinde bulunan, insansız bir sağlıklı içecek otomatıdır. Kullanıcı çeşitli girdiler smoothie içeceğine koyacağı ürünleri belirleyebilir, fiyat hesaplaması yaptırabilir ya da sadece menüyü görüntüleyebilir.\n",
    "\n",
    "**Projenin Amacı:**\n",
    "\n",
    "*   Birbirini etkileyen ve bir kod içerisinde birden fazla defa başvurulacak fonksiyonların oluşturulup, \"fonksiyonel\" proglamlamak.\n",
    "*   Büyük programları yazarken, yazılımcı olarak yapabileceğimiz hatalardan kaçınmak için kontrol yöntemleri geliştirmek.\n",
    "*   Kullanıcı inputlarını ve yaptığımız hesapları, raporlamak/loglamak amacıyla kaydetmek.\n",
    "\n",
    "**Programdan Beklenen Çıktılar**\n",
    "* Program kullanıcıya temelde 2 farklı işlem yapma imkanı sağlar.\n",
    "> 1. Menüyü görüntüleme\n",
    "> 3. Satın alma\n",
    "* Satın alınan her içecek tarih, fiyat bilgisi ile kaydedilmeli ve her zaman ulaşılabilir olmalıdır.\n",
    "\n",
    "\n"
   ]
  },
  {
   "cell_type": "code",
   "execution_count": null,
   "metadata": {},
   "outputs": [],
   "source": [
    "# 2.Problemin Çözümünü Buraya Yazınız"
   ]
  }
 ],
 "metadata": {
  "kernelspec": {
   "display_name": "Python 3",
   "language": "python",
   "name": "python3"
  },
  "language_info": {
   "codemirror_mode": {
    "name": "ipython",
    "version": 3
   },
   "file_extension": ".py",
   "mimetype": "text/x-python",
   "name": "python",
   "nbconvert_exporter": "python",
   "pygments_lexer": "ipython3",
   "version": "3.11.1"
  },
  "orig_nbformat": 4,
  "vscode": {
   "interpreter": {
    "hash": "5026d2d6e7aaaaba093def813beadff083d8733e4a511af01735cbabd156995d"
   }
  }
 },
 "nbformat": 4,
 "nbformat_minor": 2
}
