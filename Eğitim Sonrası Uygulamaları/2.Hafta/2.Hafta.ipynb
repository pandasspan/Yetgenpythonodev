{
 "cells": [
  {
   "cell_type": "code",
   "execution_count": null,
   "metadata": {},
   "outputs": [],
   "source": []
  }
 ],
 "metadata": {
  "kernelspec": {
   "display_name": "Python 3",
   "language": "python",
   "name": "python3"
  },
  "language_info": {
   "name": "python",
   "version": "3.11.1"
  },
  "orig_nbformat": 4,
  "vscode": {
   "interpreter": {
    "hash": "f85b0ca3d8bf37ff4efd62a7ed259d5286ad4588e23e8e7112e57df7c7d8396b"
   }
  }
 },
 "nbformat": 4,
 "nbformat_minor": 2
}
