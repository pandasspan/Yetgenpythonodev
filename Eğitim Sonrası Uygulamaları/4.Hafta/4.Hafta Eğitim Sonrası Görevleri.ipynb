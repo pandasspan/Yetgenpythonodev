{
 "cells": [
  {
   "cell_type": "markdown",
   "metadata": {},
   "source": [
    "# Problem 1\n",
    "`ogrenciler` adında bir sözlük oluşturunuz. Kullanıcıdan döngü yardımıyla 3 öğrenci için veri girmesini isteyerek öğrencilerin sırasıyla okul numarası, isim, soy isim, telefon numarası ve doğum tarihi bilgilerini alınız. Aldığınız öğrenci bilgilerini yine aynı döngü yardımıyla `ogrenciler` adındaki sözlükte saklayınız. Daha sonra öğrenci bilgilerinin bulunduğu sözlük yapısını ekrana bastırınız.\n",
    "\n"
   ]
  },
  {
   "cell_type": "code",
   "execution_count": 96,
   "metadata": {},
   "outputs": [
    {
     "name": "stdout",
     "output_type": "stream",
     "text": [
      "{0: {'okul no': 'jgm', 'isim': '', 'soyad': '', 'telefon': '', 'doğum tarihi': ''}, 1: {'okul no': '', 'isim': '', 'soyad': '', 'telefon': '', 'doğum tarihi': ''}, 2: {'okul no': '', 'isim': '', 'soyad': '', 'telefon': '', 'doğum tarihi': ''}}\n"
     ]
    }
   ],
   "source": [
    "# 1.Problemin Çözümünü Buraya Yazınız\n",
    "\n",
    "öğrenciler = {}\n",
    "\n",
    "for i in range(3):\n",
    "    schoolnum = input(\"okul numarası giriniz\")\n",
    "    name = input(\"isim giriniz\")\n",
    "    surname = input(\"soy isim giriniz\")\n",
    "    number = input(\"telefon giriniz\")\n",
    "    birth = input(\"doğum tarihi giriniz\")\n",
    "\n",
    "    öğrenciler[i] = {\n",
    "        \"okul no\" : schoolnum,\n",
    "        \"isim\" : name,\n",
    "        \"soyad\" : surname,\n",
    "        \"telefon\" : number,\n",
    "        \"doğum tarihi\" : birth\n",
    "    }\n",
    "print(öğrenciler)\n",
    "\n",
    "\n",
    "\n"
   ]
  },
  {
   "cell_type": "markdown",
   "metadata": {},
   "source": [
    "# Problem 2\n",
    "\n",
    "### a - Biraz ısınarak başlayalım!\n",
    "\n",
    "```\n",
    "numbers = [5,10,10,15,15,15,20,20,20,20]\n",
    "```\n",
    "\n",
    "Yukarıda `numbers` adında 10 elemanlı bir liste verilmiştir. Bu listenin her elemanını kontrol eden ve tekrar eden elemanları bir kez olacak şekilde başka bir listeye kopyalayan bir program yazınız. Son olarak oluşturduğunuz listeyi ekrana bastırınız.\n",
    "\n",
    "\n",
    "\n",
    "\n",
    "```\n",
    ">Output\n",
    "[5, 10, 15, 20]\n",
    "```\n"
   ]
  },
  {
   "cell_type": "code",
   "execution_count": 97,
   "metadata": {},
   "outputs": [
    {
     "name": "stdout",
     "output_type": "stream",
     "text": [
      "[5, 10, 15, 20]\n"
     ]
    }
   ],
   "source": [
    "# 2.Problemin a Şıkkının Çözümünü Buraya Yazınız\n",
    "\n",
    "numbers = [5,10,10,15,15,15,20,20,20,20]\n",
    "newlist = []\n",
    "for i in numbers:\n",
    "    if i in newlist:\n",
    "        continue\n",
    "    else:\n",
    "        newlist.append(i)\n",
    "        \n",
    "print(newlist)\n"
   ]
  },
  {
   "cell_type": "markdown",
   "metadata": {},
   "source": [
    "### 🌶️ b) Hadi işi biraz daha zorlaştıralım! \n",
    "\n",
    "\n",
    "Şimdiyse senden `numbers` isimli listedeki tekrar eden elemanları `repeatNumbers` adındaki listeye; tekrar etmeyen elemanları `uniqueNumbers`adındaki listeye kopyalayan yazmanı ve listeleri ekrana bastırmanı bekliyoruz\n",
    "\n",
    "```\n",
    ">Output\n",
    "Tekrar Eden Elemanlar: [10, 10, 15, 15, 15, 20, 20, 20, 20]\n",
    "Tekrar Etmeyen Elemanlar: [5]\n",
    "```"
   ]
  },
  {
   "cell_type": "code",
   "execution_count": 98,
   "metadata": {},
   "outputs": [
    {
     "name": "stdout",
     "output_type": "stream",
     "text": [
      "[10, 10, 15, 15, 15, 20, 20, 20, 20]\n",
      "[5]\n"
     ]
    }
   ],
   "source": [
    "# 2.Problemin b Şıkkının Çözümünü Buraya Yazınız\n",
    "\n",
    "numbers = [5,10,10,15,15,15,20,20,20,20]\n",
    "repeatNumbers = []\n",
    "alonenumbers = []\n",
    "for i in numbers:\n",
    "    x = numbers.count(i)\n",
    "    if x == 1:\n",
    "        alonenumbers.append(i)\n",
    "    elif x != 1:\n",
    "        repeatNumbers.append(i)\n",
    "print(repeatNumbers)\n",
    "print(alonenumbers)\n",
    "\n",
    "\n",
    "\n"
   ]
  },
  {
   "cell_type": "markdown",
   "metadata": {},
   "source": [
    "# Problem 3\n",
    "sn1 = {1,2,3,4,5}\n",
    "\n",
    "sn2 = {4,5,6,7,8}\n",
    "\n",
    " Verilen 2 adet küme için kesişimlerini, farklarını ve birleşimlerini bulunuz. "
   ]
  },
  {
   "cell_type": "code",
   "execution_count": 99,
   "metadata": {},
   "outputs": [
    {
     "name": "stdout",
     "output_type": "stream",
     "text": [
      "{4, 5}\n",
      "{1, 2, 3}\n",
      "{8, 6, 7}\n",
      "{1, 2, 3, 4, 5, 6, 7, 8}\n"
     ]
    }
   ],
   "source": [
    "# 3.Problemin Çözümünü Buraya Yazınız,\n",
    "\n",
    "sn1 = {1,2,3,4,5}\n",
    "\n",
    "sn2 = {4,5,6,7,8}\n",
    "\n",
    "kesişim = sn1.intersection(sn2)\n",
    "sadecesn1 = sn1.difference(sn2)\n",
    "sadecesn2 = sn2.difference(sn1)\n",
    "birleşim = sn1.union(sn2)\n",
    "\n",
    "print(kesişim)\n",
    "print(sadecesn1)\n",
    "print(sadecesn2)\n",
    "print(birleşim)\n"
   ]
  },
  {
   "cell_type": "markdown",
   "metadata": {},
   "source": [
    "# Problem 4\n",
    "\n",
    "Buradaki işlemlerimizin tamamı stringler içindir. Aşağıda verilecek olan metodlar için kendinizin örnek yaratması gerekmektedir. \n",
    "\n",
    "Örneğin `upper` için `string` değişkeni oluştururken` k = \"BAC\"` şeklinde oluşturmayınız. Bunun yerine k değişkenini `k = \"bac`\" şeklinde oluşturmanız `upper` metodundaki değişimi görebilmeniz için daha iyi olacaktır.\n",
    "\n",
    "Bütün metodlardaki değişimin gözle görülür şekilde değişimi beklenmektedir.\n",
    "\n",
    "\n",
    "1- capitalize(), lower(), upper(), swapcase(), title(), replace()\n",
    "\n",
    "2- endswith(), startswith(), find(), index(), count()\n",
    "\n",
    "3- split(), strip(), join(), islower(), isalpha(), isdigit()\n",
    "\n",
    "\n",
    "Yukarıdaki `string` metodlarındaki değişimleri görebildiğimiz bir program yazınız.\n"
   ]
  },
  {
   "cell_type": "code",
   "execution_count": 138,
   "metadata": {},
   "outputs": [
    {
     "name": "stdout",
     "output_type": "stream",
     "text": [
      "AHMET\n",
      "ahmet\n",
      "Ahmet\n",
      "aHMET\n",
      "Ahmet\n",
      "Ahmat\n",
      "True\n",
      "False\n",
      "4\n",
      "2\n",
      "1\n",
      "['A', 'mat']\n",
      "Ahmat\n",
      "AAhmathAhmatmAhmateAhmatt\n",
      "False\n",
      "True\n",
      "False\n"
     ]
    }
   ],
   "source": [
    "x =\"ahmet\"\n",
    "y = x.upper()\n",
    "print(y)\n",
    "z = y.lower()\n",
    "print(z)\n",
    "a = z.capitalize()\n",
    "print(a)\n",
    "s = a.swapcase()\n",
    "print(s)\n",
    "d = s.title()\n",
    "print(d)\n",
    "e = d.replace(\"e\",\"a\")\n",
    "print(e)\n",
    "\n",
    "print(e.endswith(\"t\"))\n",
    "print(e.startswith(\"a\"))\n",
    "print(e.find(\"t\"))\n",
    "print(e.index(\"m\"))\n",
    "print(e.count(\"h\"))\n",
    "print(e.split(\"h\"))\n",
    "print(e.strip())\n",
    "print(e.join(d))\n",
    "print(e.islower())\n",
    "print(e.isalpha())\n",
    "print(e.isdigit())"
   ]
  }
 ],
 "metadata": {
  "kernelspec": {
   "display_name": "Python 3.10.5 64-bit",
   "language": "python",
   "name": "python3"
  },
  "language_info": {
   "codemirror_mode": {
    "name": "ipython",
    "version": 3
   },
   "file_extension": ".py",
   "mimetype": "text/x-python",
   "name": "python",
   "nbconvert_exporter": "python",
   "pygments_lexer": "ipython3",
   "version": "3.11.1"
  },
  "orig_nbformat": 4,
  "vscode": {
   "interpreter": {
    "hash": "5026d2d6e7aaaaba093def813beadff083d8733e4a511af01735cbabd156995d"
   }
  }
 },
 "nbformat": 4,
 "nbformat_minor": 2
}
